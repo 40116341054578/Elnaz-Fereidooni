{
  "nbformat": 4,
  "nbformat_minor": 0,
  "metadata": {
    "colab": {
      "provenance": [],
      "authorship_tag": "ABX9TyPK5o69VBARHZ+sQQF+xe2x",
      "include_colab_link": true
    },
    "kernelspec": {
      "name": "python3",
      "display_name": "Python 3"
    },
    "language_info": {
      "name": "python"
    }
  },
  "cells": [
    {
      "cell_type": "markdown",
      "metadata": {
        "id": "view-in-github",
        "colab_type": "text"
      },
      "source": [
        "<a href=\"https://colab.research.google.com/github/40116341054578/Elnaz-Fereidooni/blob/main/minheap.ipynb\" target=\"_parent\"><img src=\"https://colab.research.google.com/assets/colab-badge.svg\" alt=\"Open In Colab\"/></a>"
      ]
    },
    {
      "cell_type": "code",
      "execution_count": null,
      "metadata": {
        "id": "2bBuXKodK3QO"
      },
      "outputs": [],
      "source": [
        "def heapify(A , K):\n",
        "    left = 2*K+1\n",
        "    right = 2*K+2\n",
        "    if left < len(A) and A[left] < A[K]:\n",
        "        s = 1\n",
        "    else:\n",
        "        s = K\n",
        "    if right < len(A) and A[right] < A[s]:\n",
        "        s = right\n",
        "    if s!= K:\n",
        "        A[K] , A[s] = A[s] , A[K]\n",
        "        heapify (A , s)\n",
        "def build_min_heap(A):\n",
        "    n = int((len(A)//2) -1)\n",
        "    for k in range(n , -1 , -1):\n",
        "        heapify(A , k)"
      ]
    }
  ]
}