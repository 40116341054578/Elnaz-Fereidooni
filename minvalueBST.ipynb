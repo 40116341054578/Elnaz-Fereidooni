{
  "nbformat": 4,
  "nbformat_minor": 0,
  "metadata": {
    "colab": {
      "provenance": [],
      "authorship_tag": "ABX9TyNYATNp+hLS5H4On3geWQo8",
      "include_colab_link": true
    },
    "kernelspec": {
      "name": "python3",
      "display_name": "Python 3"
    },
    "language_info": {
      "name": "python"
    }
  },
  "cells": [
    {
      "cell_type": "markdown",
      "metadata": {
        "id": "view-in-github",
        "colab_type": "text"
      },
      "source": [
        "<a href=\"https://colab.research.google.com/github/40116341054578/Elnaz-Fereidooni/blob/main/minvalueBST.ipynb\" target=\"_parent\"><img src=\"https://colab.research.google.com/assets/colab-badge.svg\" alt=\"Open In Colab\"/></a>"
      ]
    },
    {
      "cell_type": "code",
      "execution_count": null,
      "metadata": {
        "id": "_Wz4bPetKrok"
      },
      "outputs": [],
      "source": [
        "def minvalueBST(root):\n",
        "    if root is None:\n",
        "        return root\n",
        "    while root.left is not None:\n",
        "        root = root.left\n",
        "    return root.key"
      ]
    }
  ]
}