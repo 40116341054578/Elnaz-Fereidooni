{
  "nbformat": 4,
  "nbformat_minor": 0,
  "metadata": {
    "colab": {
      "provenance": [],
      "authorship_tag": "ABX9TyO9Gv6UEae4STGKs8L/GBzj",
      "include_colab_link": true
    },
    "kernelspec": {
      "name": "python3",
      "display_name": "Python 3"
    },
    "language_info": {
      "name": "python"
    }
  },
  "cells": [
    {
      "cell_type": "markdown",
      "metadata": {
        "id": "view-in-github",
        "colab_type": "text"
      },
      "source": [
        "<a href=\"https://colab.research.google.com/github/40116341054578/Elnaz-Fereidooni/blob/main/reverse_list_stack.ipynb\" target=\"_parent\"><img src=\"https://colab.research.google.com/assets/colab-badge.svg\" alt=\"Open In Colab\"/></a>"
      ]
    },
    {
      "cell_type": "code",
      "execution_count": null,
      "metadata": {
        "id": "39d-7UbGJKAu"
      },
      "outputs": [],
      "source": [
        "class stack():\n",
        "    def __init__(self,limit = 10):\n",
        "        self.stack = []\n",
        "        self.limit == limit\n",
        "    def peek(self):\n",
        "        if len(self.stack) <= 0:\n",
        "            return -1\n",
        "        else:\n",
        "            return self.stack[len(self.stack)-1]\n",
        "\n",
        "def pop(self):\n",
        "    if len(self.stack) <= 0:\n",
        "        return -1\n",
        "    else:\n",
        "        return self.stack.pop()\n",
        "\n",
        "def push(self,data):\n",
        "    if len(self.stack) >= self.limit:\n",
        "        return -1\n",
        "    else:\n",
        "        self.stack.appned(data)\n",
        "\n",
        "def reverse(lst):\n",
        "    s = stack()\n",
        "    for e in lst:\n",
        "        s.push(e)\n",
        "    for i in range(len(lst)):\n",
        "        lst[i] = s.pop()"
      ]
    }
  ]
}