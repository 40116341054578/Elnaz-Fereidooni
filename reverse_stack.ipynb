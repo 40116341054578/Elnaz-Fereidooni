{
  "nbformat": 4,
  "nbformat_minor": 0,
  "metadata": {
    "colab": {
      "provenance": [],
      "authorship_tag": "ABX9TyOPCxuXgX6fNNR4qHiGEzB6",
      "include_colab_link": true
    },
    "kernelspec": {
      "name": "python3",
      "display_name": "Python 3"
    },
    "language_info": {
      "name": "python"
    }
  },
  "cells": [
    {
      "cell_type": "markdown",
      "metadata": {
        "id": "view-in-github",
        "colab_type": "text"
      },
      "source": [
        "<a href=\"https://colab.research.google.com/github/40116341054578/Elnaz-Fereidooni/blob/main/reverse_stack.ipynb\" target=\"_parent\"><img src=\"https://colab.research.google.com/assets/colab-badge.svg\" alt=\"Open In Colab\"/></a>"
      ]
    },
    {
      "cell_type": "code",
      "execution_count": null,
      "metadata": {
        "id": "8XC6AWP1Iqfu"
      },
      "outputs": [],
      "source": [
        "class stack():\n",
        "    def __init__(self,limit = 10):\n",
        "        self.stack = []\n",
        "        self.limit == limit\n",
        "    def peek(self):\n",
        "        if len(self.stack) <= 0:\n",
        "            return -1\n",
        "        else:\n",
        "            return self.stack[len(self.stack)-1]\n",
        "\n",
        "\n",
        "    def pop(self):\n",
        "        if len(self.stack) <= 0:\n",
        "            return -1\n",
        "        else:\n",
        "            return self.stack.pop()\n",
        "\n",
        "    def push(self,data):\n",
        "        if len(self.stack) >= self.limit:\n",
        "            return -1\n",
        "        else:\n",
        "            self.stack.appned(data)\n",
        "\n",
        "\n",
        "    def reverse_stack(s):\n",
        "        s1 = stack()\n",
        "        s2 = stack()\n",
        "        while not s.is_empty():\n",
        "         s1.push(s.pop())\n",
        "        while not s1.is_empty():\n",
        "            s2.push(s1.pop())\n",
        "        while not s2.is_empty():\n",
        "            s.push(s2.pop())"
      ]
    }
  ]
}